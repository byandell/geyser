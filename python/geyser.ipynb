{
 "cells": [
  {
   "cell_type": "code",
   "execution_count": null,
   "metadata": {},
   "outputs": [
    {
     "ename": "",
     "evalue": "",
     "output_type": "error",
     "traceback": [
      "\u001b[1;31mRunning cells with 'Python 3.12.7' requires the ipykernel package.\n",
      "\u001b[1;31mRun the following command to install 'ipykernel' into the Python environment. \n",
      "\u001b[1;31mCommand: '/opt/homebrew/bin/python3.12 -m pip install ipykernel -U --user --force-reinstall'"
     ]
    }
   ],
   "source": [
    "#pip install --ignore-installed shiny"
   ]
  },
  {
   "cell_type": "code",
   "execution_count": 26,
   "metadata": {},
   "outputs": [],
   "source": [
    "from shiny import App, render, ui\n",
    "import numpy as np\n",
    "import matplotlib.pyplot as plt\n",
    "from scipy.stats import gaussian_kde"
   ]
  },
  {
   "cell_type": "code",
   "execution_count": null,
   "metadata": {},
   "outputs": [],
   "source": [
    "#pip install rpy2"
   ]
  },
  {
   "cell_type": "code",
   "execution_count": 27,
   "metadata": {},
   "outputs": [],
   "source": [
    "from rpy2 import robjects\n",
    "\n",
    "# `faithful$eruptions` from R\n",
    "eruptions = robjects.r['faithful'][0]\n",
    "\n",
    "#eruptions = np.random.normal(loc=3.5, scale=1.0, size=272)"
   ]
  },
  {
   "cell_type": "code",
   "execution_count": 59,
   "metadata": {},
   "outputs": [],
   "source": [
    "app_ui = ui.page_fluid(\n",
    "    ui.input_select(\n",
    "        \"n_breaks\",\n",
    "        \"Number of bins in histogram (approximate):\",\n",
    "        choices=[10, 20, 35, 50],\n",
    "        selected=20\n",
    "    ),\n",
    "    ui.input_checkbox(\n",
    "        \"individual_obs\",\n",
    "        \"Show individual observations\",\n",
    "        value=False\n",
    "    ),\n",
    "    ui.input_checkbox(\n",
    "        \"density\",\n",
    "        \"Show density estimate\",\n",
    "        value=False\n",
    "    ),\n",
    "    ui.output_plot(\"main_plot\"),\n",
    "    ui.output_ui(\"output_bw_adjust\")\n",
    ")"
   ]
  },
  {
   "cell_type": "code",
   "execution_count": 60,
   "metadata": {},
   "outputs": [],
   "source": [
    "def server(input, output, session):\n",
    "    @output\n",
    "    @render.plot\n",
    "    def main_plot():\n",
    "        fig, ax = plt.subplots()\n",
    "        n_breaks = int(input.n_breaks())\n",
    "        hist_data = np.histogram(eruptions, bins=n_breaks, density=True)\n",
    "        ax.bar(hist_data[1][:-1], hist_data[0], width=np.diff(hist_data[1]), edgecolor='black', align='edge')\n",
    "\n",
    "        if input.individual_obs():\n",
    "            ax.plot(eruptions, np.zeros_like(eruptions), 'r|', markersize=10)\n",
    "\n",
    "        if input.density():\n",
    "            bw_adjust = input.bw_adjust()\n",
    "            kde = gaussian_kde(eruptions, bw_method=bw_adjust)\n",
    "            x_grid = np.linspace(min(eruptions), max(eruptions), 1000)\n",
    "            ax.plot(x_grid, kde(x_grid), color='blue')\n",
    "\n",
    "        ax.set_xlabel(\"Duration (minutes)\")\n",
    "        ax.set_title(\"Geyser eruption duration\")\n",
    "        return fig\n",
    "\n",
    "    @output\n",
    "    @render.ui\n",
    "    def output_bw_adjust():\n",
    "        if input.density():\n",
    "            return ui.input_slider(\n",
    "                \"bw_adjust\",\n",
    "                \"Bandwidth adjustment:\",\n",
    "                min=0.2,\n",
    "                max=2.0,\n",
    "                value=1.0,\n",
    "                step=0.2\n",
    "            )\n",
    "        return None\n"
   ]
  },
  {
   "cell_type": "code",
   "execution_count": 61,
   "metadata": {},
   "outputs": [],
   "source": [
    "app = App(app_ui, server)"
   ]
  },
  {
   "cell_type": "markdown",
   "metadata": {},
   "source": [
    "The following seems important to get asynchronous shiny\n",
    "working properly."
   ]
  },
  {
   "cell_type": "code",
   "execution_count": 1,
   "metadata": {},
   "outputs": [],
   "source": [
    "import nest_asyncio\n",
    "nest_asyncio.apply()"
   ]
  },
  {
   "cell_type": "code",
   "execution_count": null,
   "metadata": {},
   "outputs": [],
   "source": [
    "if __name__ == \"__main__\":\n",
    "    app.run()"
   ]
  },
  {
   "cell_type": "markdown",
   "metadata": {},
   "source": [
    "### Histogram Module\n",
    "\n",
    "The following runs with two copies of same module.\n",
    "It follows `@module` directions in \n",
    "[Shiny for Python: Module Communication](https://shiny.posit.co/py/docs/module-communication.html).\n",
    "I think I got `@module.ui` to work on multiple components."
   ]
  },
  {
   "cell_type": "code",
   "execution_count": 15,
   "metadata": {},
   "outputs": [],
   "source": [
    "%run hist2"
   ]
  },
  {
   "cell_type": "code",
   "execution_count": 16,
   "metadata": {},
   "outputs": [
    {
     "name": "stderr",
     "output_type": "stream",
     "text": [
      "INFO:     Started server process [33199]\n",
      "INFO:     Waiting for application startup.\n",
      "INFO:     Application startup complete.\n",
      "INFO:     Uvicorn running on http://127.0.0.1:8000 (Press CTRL+C to quit)\n"
     ]
    },
    {
     "name": "stdout",
     "output_type": "stream",
     "text": [
      "INFO:     127.0.0.1:62949 - \"GET / HTTP/1.1\" 200 OK\n"
     ]
    },
    {
     "name": "stderr",
     "output_type": "stream",
     "text": [
      "INFO:     ('127.0.0.1', 62952) - \"WebSocket /websocket/\" [accepted]\n",
      "INFO:     connection open\n"
     ]
    },
    {
     "name": "stderr",
     "output_type": "stream",
     "text": [
      "INFO:     connection closed\n"
     ]
    }
   ],
   "source": [
    "hist_app()"
   ]
  },
  {
   "cell_type": "code",
   "execution_count": 26,
   "metadata": {},
   "outputs": [],
   "source": [
    "%run hist"
   ]
  },
  {
   "cell_type": "code",
   "execution_count": null,
   "metadata": {},
   "outputs": [],
   "source": [
    "hist_app()"
   ]
  },
  {
   "cell_type": "markdown",
   "metadata": {},
   "source": [
    "### Geyser Module\n",
    "\n",
    "Same as hist2."
   ]
  },
  {
   "cell_type": "code",
   "execution_count": 2,
   "metadata": {},
   "outputs": [],
   "source": [
    "%run geyser"
   ]
  },
  {
   "cell_type": "code",
   "execution_count": 3,
   "metadata": {},
   "outputs": [
    {
     "name": "stderr",
     "output_type": "stream",
     "text": [
      "INFO:     Started server process [33518]\n",
      "INFO:     Waiting for application startup.\n",
      "INFO:     Application startup complete.\n",
      "INFO:     Uvicorn running on http://127.0.0.1:8000 (Press CTRL+C to quit)\n"
     ]
    },
    {
     "name": "stdout",
     "output_type": "stream",
     "text": [
      "INFO:     127.0.0.1:62992 - \"GET / HTTP/1.1\" 200 OK\n"
     ]
    },
    {
     "name": "stderr",
     "output_type": "stream",
     "text": [
      "INFO:     ('127.0.0.1', 62994) - \"WebSocket /websocket/\" [accepted]\n",
      "INFO:     connection open\n"
     ]
    },
    {
     "data": {
      "image/png": "[encoded data removed]",
      "text/plain": [
       "<Figure size 640x480 with 1 Axes>"
      ]
     },
     "metadata": {},
     "output_type": "display_data"
    },
    {
     "name": "stderr",
     "output_type": "stream",
     "text": [
      "INFO:     connection closed\n"
     ]
    }
   ],
   "source": [
    "geyserApp()"
   ]
  },
  {
   "cell_type": "code",
   "execution_count": null,
   "metadata": {},
   "outputs": [],
   "source": [
    "app_ui = ui.page_fluid(\n",
    "        geyserInput(\"geyser\"),\n",
    "        geyserOutput(\"geyser\"),\n",
    "        geyserUI(\"geyser\")\n",
    "    )\n",
    "def app_server(input, output, session):\n",
    "    geyserServer(\"geyser\")(input, output, session)\n",
    "\n",
    "app = App(app_ui, app_server)\n",
    "\n",
    "if __name__ == '__main__':\n",
    "    app.run()"
   ]
  },
  {
   "cell_type": "code",
   "execution_count": null,
   "metadata": {},
   "outputs": [],
   "source": [
    "geyserApp()"
   ]
  }
 ],
 "metadata": {
  "kernelspec": {
   "display_name": "base",
   "language": "python",
   "name": "python3"
  },
  "language_info": {
   "codemirror_mode": {
    "name": "ipython",
    "version": 3
   },
   "file_extension": ".py",
   "mimetype": "text/x-python",
   "name": "python",
   "nbconvert_exporter": "python",
   "pygments_lexer": "ipython3",
   "version": "3.12.4"
  }
 },
 "nbformat": 4,
 "nbformat_minor": 2
}
