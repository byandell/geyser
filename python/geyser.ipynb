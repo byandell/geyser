{
 "cells": [
  {
   "cell_type": "code",
   "execution_count": null,
   "metadata": {},
   "outputs": [
    {
     "ename": "",
     "evalue": "",
     "output_type": "error",
     "traceback": [
      "\u001b[1;31mRunning cells with 'Python 3.12.7' requires the ipykernel package.\n",
      "\u001b[1;31mRun the following command to install 'ipykernel' into the Python environment. \n",
      "\u001b[1;31mCommand: '/opt/homebrew/bin/python3.12 -m pip install ipykernel -U --user --force-reinstall'"
     ]
    }
   ],
   "source": [
    "#pip install --ignore-installed shiny"
   ]
  },
  {
   "cell_type": "code",
   "execution_count": 1,
   "metadata": {},
   "outputs": [],
   "source": [
    "from shiny import App, render, ui\n",
    "import numpy as np\n",
    "import matplotlib.pyplot as plt\n",
    "from scipy.stats import gaussian_kde"
   ]
  },
  {
   "cell_type": "code",
   "execution_count": 3,
   "metadata": {},
   "outputs": [
    {
     "name": "stdout",
     "output_type": "stream",
     "text": [
      "Collecting rpy2\n",
      "  Downloading rpy2-3.5.17.tar.gz (220 kB)\n",
      "  Installing build dependencies ... \u001b[?25ldone\n",
      "\u001b[?25h  Getting requirements to build wheel ... \u001b[?25ldone\n",
      "\u001b[?25h  Preparing metadata (pyproject.toml) ... \u001b[?25ldone\n",
      "\u001b[?25hRequirement already satisfied: cffi>=1.15.1 in /Users/brianyandell/miniconda3/lib/python3.12/site-packages (from rpy2) (1.16.0)\n",
      "Collecting jinja2 (from rpy2)\n",
      "  Downloading jinja2-3.1.5-py3-none-any.whl.metadata (2.6 kB)\n",
      "Collecting tzlocal (from rpy2)\n",
      "  Using cached tzlocal-5.2-py3-none-any.whl.metadata (7.8 kB)\n",
      "Requirement already satisfied: pycparser in /Users/brianyandell/miniconda3/lib/python3.12/site-packages (from cffi>=1.15.1->rpy2) (2.21)\n",
      "Collecting MarkupSafe>=2.0 (from jinja2->rpy2)\n",
      "  Downloading MarkupSafe-3.0.2-cp312-cp312-macosx_11_0_arm64.whl.metadata (4.0 kB)\n",
      "Downloading jinja2-3.1.5-py3-none-any.whl (134 kB)\n",
      "Using cached tzlocal-5.2-py3-none-any.whl (17 kB)\n",
      "Downloading MarkupSafe-3.0.2-cp312-cp312-macosx_11_0_arm64.whl (12 kB)\n",
      "Building wheels for collected packages: rpy2\n",
      "  Building wheel for rpy2 (pyproject.toml) ... \u001b[?25ldone\n",
      "\u001b[?25h  Created wheel for rpy2: filename=rpy2-3.5.17-cp312-cp312-macosx_11_0_arm64.whl size=252699 sha256=3411ac3f001051b30b2585806aec95b47e96407543b0549de6b4a0407ddff555\n",
      "  Stored in directory: /Users/brianyandell/Library/Caches/pip/wheels/fb/3c/a8/5c2ab28ca010aa26f09174d6ac337141721ee764f7b17c0953\n",
      "Successfully built rpy2\n",
      "Installing collected packages: tzlocal, MarkupSafe, jinja2, rpy2\n",
      "Successfully installed MarkupSafe-3.0.2 jinja2-3.1.5 rpy2-3.5.17 tzlocal-5.2\n",
      "Note: you may need to restart the kernel to use updated packages.\n"
     ]
    }
   ],
   "source": [
    "pip install rpy2"
   ]
  },
  {
   "cell_type": "code",
   "execution_count": 4,
   "metadata": {},
   "outputs": [],
   "source": [
    "from rpy2 import robjects\n",
    "\n",
    "# `faithful$eruptions` from R\n",
    "eruptions = robjects.r['faithful'][0]\n",
    "\n",
    "#eruptions = np.random.normal(loc=3.5, scale=1.0, size=272)"
   ]
  },
  {
   "cell_type": "code",
   "execution_count": 5,
   "metadata": {},
   "outputs": [],
   "source": [
    "app_ui = ui.page_fluid(\n",
    "    ui.input_select(\n",
    "        \"n_breaks\",\n",
    "        \"Number of bins in histogram (approximate):\",\n",
    "        choices=[10, 20, 35, 50],\n",
    "        selected=20\n",
    "    ),\n",
    "    ui.input_checkbox(\n",
    "        \"individual_obs\",\n",
    "        \"Show individual observations\",\n",
    "        value=False\n",
    "    ),\n",
    "    ui.input_checkbox(\n",
    "        \"density\",\n",
    "        \"Show density estimate\",\n",
    "        value=False\n",
    "    ),\n",
    "    ui.output_plot(\"main_plot\"),\n",
    "    ui.output_ui(\"bw_adjust\")\n",
    ")"
   ]
  },
  {
   "cell_type": "code",
   "execution_count": 12,
   "metadata": {},
   "outputs": [],
   "source": [
    "def server(input, output, session):\n",
    "    @output\n",
    "    @render.plot\n",
    "    def main_plot():\n",
    "        fig, ax = plt.subplots()\n",
    "        n_breaks = int(input.n_breaks())\n",
    "        hist_data = np.histogram(eruptions, bins=n_breaks, density=True)\n",
    "        ax.bar(hist_data[1][:-1], hist_data[0], width=np.diff(hist_data[1]), edgecolor='black', align='edge')\n",
    "\n",
    "        if input.individual_obs():\n",
    "            ax.plot(eruptions, np.zeros_like(eruptions), 'r|', markersize=10)\n",
    "\n",
    "        if input.density():\n",
    "            bw_adjust = input.bw_adjust()\n",
    "            kde = gaussian_kde(eruptions, bw_method=bw_adjust)\n",
    "            x_grid = np.linspace(min(eruptions), max(eruptions), 1000)\n",
    "            ax.plot(x_grid, kde(x_grid), color='blue')\n",
    "\n",
    "        ax.set_xlabel(\"Duration (minutes)\")\n",
    "        ax.set_title(\"Geyser eruption duration\")\n",
    "        return fig\n",
    "\n",
    "    @output\n",
    "    @render.ui\n",
    "    def bw_adjust():\n",
    "        if input.density():\n",
    "            return ui.input_slider(\n",
    "                \"bw_adjust\",\n",
    "                \"Bandwidth adjustment:\",\n",
    "                min=0.2,\n",
    "                max=2.0,\n",
    "                value=1.0,\n",
    "                step=0.2\n",
    "            )\n",
    "        return None\n"
   ]
  },
  {
   "cell_type": "code",
   "execution_count": 13,
   "metadata": {},
   "outputs": [],
   "source": [
    "app = App(app_ui, server)"
   ]
  },
  {
   "cell_type": "code",
   "execution_count": 10,
   "metadata": {},
   "outputs": [],
   "source": [
    "import nest_asyncio\n",
    "nest_asyncio.apply()"
   ]
  },
  {
   "cell_type": "code",
   "execution_count": 14,
   "metadata": {},
   "outputs": [
    {
     "name": "stderr",
     "output_type": "stream",
     "text": [
      "INFO:     Started server process [27260]\n",
      "INFO:     Waiting for application startup.\n",
      "INFO:     Application startup complete.\n",
      "INFO:     Uvicorn running on http://127.0.0.1:8000 (Press CTRL+C to quit)\n"
     ]
    },
    {
     "name": "stdout",
     "output_type": "stream",
     "text": [
      "INFO:     127.0.0.1:61347 - \"GET / HTTP/1.1\" 200 OK\n"
     ]
    },
    {
     "name": "stderr",
     "output_type": "stream",
     "text": [
      "INFO:     ('127.0.0.1', 61349) - \"WebSocket /websocket/\" [accepted]\n",
      "INFO:     connection open\n",
      "INFO:     connection closed\n",
      "INFO:     Shutting down\n",
      "INFO:     Waiting for application shutdown.\n",
      "INFO:     Application shutdown complete.\n",
      "INFO:     Finished server process [27260]\n"
     ]
    }
   ],
   "source": [
    "if __name__ == \"__main__\":\n",
    "    app.run()"
   ]
  }
 ],
 "metadata": {
  "kernelspec": {
   "display_name": "base",
   "language": "python",
   "name": "python3"
  },
  "language_info": {
   "codemirror_mode": {
    "name": "ipython",
    "version": 3
   },
   "file_extension": ".py",
   "mimetype": "text/x-python",
   "name": "python",
   "nbconvert_exporter": "python",
   "pygments_lexer": "ipython3",
   "version": "3.12.4"
  }
 },
 "nbformat": 4,
 "nbformat_minor": 2
}
