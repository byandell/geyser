{
 "cells": [
  {
   "cell_type": "code",
   "execution_count": null,
   "metadata": {},
   "outputs": [],
   "source": [
    "import subprocess\n",
    "\n",
    "subprocess.run([\"python\", \"my_app.py\"])"
   ]
  },
  {
   "cell_type": "code",
   "execution_count": null,
   "metadata": {},
   "outputs": [
    {
     "ename": "",
     "evalue": "",
     "output_type": "error",
     "traceback": [
      "\u001b[1;31mRunning cells with 'Python 3.12.7' requires the ipykernel package.\n",
      "\u001b[1;31mRun the following command to install 'ipykernel' into the Python environment. \n",
      "\u001b[1;31mCommand: '/opt/homebrew/bin/python3.12 -m pip install ipykernel -U --user --force-reinstall'"
     ]
    }
   ],
   "source": [
    "#pip install --ignore-installed shiny"
   ]
  },
  {
   "cell_type": "code",
   "execution_count": 1,
   "metadata": {},
   "outputs": [],
   "source": [
    "from shiny import App, render, ui\n",
    "import numpy as np\n",
    "import matplotlib.pyplot as plt\n",
    "from scipy.stats import gaussian_kde"
   ]
  },
  {
   "cell_type": "code",
   "execution_count": null,
   "metadata": {},
   "outputs": [],
   "source": [
    "#pip install rpy2"
   ]
  },
  {
   "cell_type": "code",
   "execution_count": 2,
   "metadata": {},
   "outputs": [],
   "source": [
    "from rpy2 import robjects\n",
    "\n",
    "# `faithful$eruptions` from R\n",
    "eruptions = robjects.r['faithful'][0]\n",
    "\n",
    "#eruptions = np.random.normal(loc=3.5, scale=1.0, size=272)"
   ]
  },
  {
   "cell_type": "code",
   "execution_count": 3,
   "metadata": {},
   "outputs": [],
   "source": [
    "app_ui = ui.page_fluid(\n",
    "    ui.input_select(\n",
    "        \"n_breaks\",\n",
    "        \"Number of bins in histogram (approximate):\",\n",
    "        choices=[10, 20, 35, 50],\n",
    "        selected=20\n",
    "    ),\n",
    "    ui.input_checkbox(\n",
    "        \"individual_obs\",\n",
    "        \"Show individual observations\",\n",
    "        value=False\n",
    "    ),\n",
    "    ui.input_checkbox(\n",
    "        \"density\",\n",
    "        \"Show density estimate\",\n",
    "        value=False\n",
    "    ),\n",
    "    ui.output_plot(\"main_plot\"),\n",
    "    ui.output_ui(\"output_bw_adjust\")\n",
    ")"
   ]
  },
  {
   "cell_type": "code",
   "execution_count": 4,
   "metadata": {},
   "outputs": [],
   "source": [
    "def server(input, output, session):\n",
    "    @output\n",
    "    @render.plot\n",
    "    def main_plot():\n",
    "        fig, ax = plt.subplots()\n",
    "        n_breaks = int(input.n_breaks())\n",
    "        hist_data = np.histogram(eruptions, bins=n_breaks, density=True)\n",
    "        ax.bar(hist_data[1][:-1], hist_data[0], width=np.diff(hist_data[1]), edgecolor='black', align='edge')\n",
    "\n",
    "        if input.individual_obs():\n",
    "            ax.plot(eruptions, np.zeros_like(eruptions), 'r|', markersize=10)\n",
    "\n",
    "        if input.density():\n",
    "            bw_adjust = input.bw_adjust()\n",
    "            kde = gaussian_kde(eruptions, bw_method=bw_adjust)\n",
    "            x_grid = np.linspace(min(eruptions), max(eruptions), 1000)\n",
    "            ax.plot(x_grid, kde(x_grid), color='blue')\n",
    "\n",
    "        ax.set_xlabel(\"Duration (minutes)\")\n",
    "        ax.set_title(\"Geyser eruption duration\")\n",
    "        return fig\n",
    "\n",
    "    @output\n",
    "    @render.ui\n",
    "    def output_bw_adjust():\n",
    "        if input.density():\n",
    "            return ui.input_slider(\n",
    "                \"bw_adjust\",\n",
    "                \"Bandwidth adjustment:\",\n",
    "                min=0.2,\n",
    "                max=2.0,\n",
    "                value=1.0,\n",
    "                step=0.2\n",
    "            )\n",
    "        return None\n"
   ]
  },
  {
   "cell_type": "code",
   "execution_count": 5,
   "metadata": {},
   "outputs": [],
   "source": [
    "app = App(app_ui, server)"
   ]
  },
  {
   "cell_type": "markdown",
   "metadata": {},
   "source": [
    "The following seems important to get asynchronous shiny\n",
    "working properly."
   ]
  },
  {
   "cell_type": "code",
   "execution_count": 6,
   "metadata": {},
   "outputs": [],
   "source": [
    "import nest_asyncio\n",
    "nest_asyncio.apply()"
   ]
  },
  {
   "cell_type": "code",
   "execution_count": null,
   "metadata": {},
   "outputs": [
    {
     "name": "stderr",
     "output_type": "stream",
     "text": [
      "INFO:     Started server process [44432]\n",
      "INFO:     Waiting for application startup.\n",
      "INFO:     Application startup complete.\n",
      "ERROR:    [Errno 48] error while attempting to bind on address ('127.0.0.1', 8000): address already in use\n",
      "INFO:     Waiting for application shutdown.\n",
      "INFO:     Application shutdown complete.\n"
     ]
    },
    {
     "ename": "AttributeError",
     "evalue": "'tuple' object has no attribute 'tb_frame'",
     "output_type": "error",
     "traceback": [
      "\u001b[0;31m---------------------------------------------------------------------------\u001b[0m",
      "\u001b[0;31mOSError\u001b[0m                                   Traceback (most recent call last)",
      "File \u001b[0;32m~/miniconda3/lib/python3.12/site-packages/uvicorn/server.py:162\u001b[0m, in \u001b[0;36mServer.startup\u001b[0;34m(self, sockets)\u001b[0m\n\u001b[1;32m    161\u001b[0m \u001b[38;5;28;01mtry\u001b[39;00m:\n\u001b[0;32m--> 162\u001b[0m     server \u001b[38;5;241m=\u001b[39m \u001b[38;5;28;01mawait\u001b[39;00m loop\u001b[38;5;241m.\u001b[39mcreate_server(\n\u001b[1;32m    163\u001b[0m         create_protocol,\n\u001b[1;32m    164\u001b[0m         host\u001b[38;5;241m=\u001b[39mconfig\u001b[38;5;241m.\u001b[39mhost,\n\u001b[1;32m    165\u001b[0m         port\u001b[38;5;241m=\u001b[39mconfig\u001b[38;5;241m.\u001b[39mport,\n\u001b[1;32m    166\u001b[0m         ssl\u001b[38;5;241m=\u001b[39mconfig\u001b[38;5;241m.\u001b[39mssl,\n\u001b[1;32m    167\u001b[0m         backlog\u001b[38;5;241m=\u001b[39mconfig\u001b[38;5;241m.\u001b[39mbacklog,\n\u001b[1;32m    168\u001b[0m     )\n\u001b[1;32m    169\u001b[0m \u001b[38;5;28;01mexcept\u001b[39;00m \u001b[38;5;167;01mOSError\u001b[39;00m \u001b[38;5;28;01mas\u001b[39;00m exc:\n",
      "File \u001b[0;32m~/miniconda3/lib/python3.12/asyncio/base_events.py:1572\u001b[0m, in \u001b[0;36mBaseEventLoop.create_server\u001b[0;34m(self, protocol_factory, host, port, family, flags, sock, backlog, ssl, reuse_address, reuse_port, ssl_handshake_timeout, ssl_shutdown_timeout, start_serving)\u001b[0m\n\u001b[1;32m   1571\u001b[0m             \u001b[38;5;28;01mcontinue\u001b[39;00m\n\u001b[0;32m-> 1572\u001b[0m         \u001b[38;5;28;01mraise\u001b[39;00m \u001b[38;5;167;01mOSError\u001b[39;00m(err\u001b[38;5;241m.\u001b[39merrno, msg) \u001b[38;5;28;01mfrom\u001b[39;00m \u001b[38;5;28;01mNone\u001b[39;00m\n\u001b[1;32m   1574\u001b[0m \u001b[38;5;28;01mif\u001b[39;00m \u001b[38;5;129;01mnot\u001b[39;00m sockets:\n",
      "\u001b[0;31mOSError\u001b[0m: [Errno 48] error while attempting to bind on address ('127.0.0.1', 8000): address already in use",
      "\nDuring handling of the above exception, another exception occurred:\n",
      "\u001b[0;31mSystemExit\u001b[0m                                Traceback (most recent call last)",
      "    \u001b[0;31m[... skipping hidden 1 frame]\u001b[0m\n",
      "Cell \u001b[0;32mIn[7], line 2\u001b[0m\n\u001b[1;32m      1\u001b[0m \u001b[38;5;28;01mif\u001b[39;00m \u001b[38;5;18m__name__\u001b[39m \u001b[38;5;241m==\u001b[39m \u001b[38;5;124m\"\u001b[39m\u001b[38;5;124m__main__\u001b[39m\u001b[38;5;124m\"\u001b[39m:\n\u001b[0;32m----> 2\u001b[0m     \u001b[43mapp\u001b[49m\u001b[38;5;241;43m.\u001b[39;49m\u001b[43mrun\u001b[49m\u001b[43m(\u001b[49m\u001b[43m)\u001b[49m\n",
      "File \u001b[0;32m~/miniconda3/lib/python3.12/site-packages/shiny/_app.py:271\u001b[0m, in \u001b[0;36mApp.run\u001b[0;34m(self, **kwargs)\u001b[0m\n\u001b[1;32m    269\u001b[0m \u001b[38;5;28;01mfrom\u001b[39;00m \u001b[38;5;21;01m.\u001b[39;00m\u001b[38;5;21;01m_main\u001b[39;00m \u001b[38;5;28;01mimport\u001b[39;00m run_app\n\u001b[0;32m--> 271\u001b[0m \u001b[43mrun_app\u001b[49m\u001b[43m(\u001b[49m\u001b[38;5;28;43mself\u001b[39;49m\u001b[43m,\u001b[49m\u001b[43m \u001b[49m\u001b[38;5;241;43m*\u001b[39;49m\u001b[38;5;241;43m*\u001b[39;49m\u001b[43mkwargs\u001b[49m\u001b[43m)\u001b[49m\n",
      "File \u001b[0;32m~/miniconda3/lib/python3.12/site-packages/shiny/_main.py:367\u001b[0m, in \u001b[0;36mrun_app\u001b[0;34m(app, host, port, autoreload_port, reload, reload_dirs, reload_includes, reload_excludes, ws_max_size, log_level, app_dir, factory, launch_browser, dev_mode, **kwargs)\u001b[0m\n\u001b[1;32m    365\u001b[0m maybe_setup_rsw_proxying(log_config)\n\u001b[0;32m--> 367\u001b[0m \u001b[43muvicorn\u001b[49m\u001b[38;5;241;43m.\u001b[39;49m\u001b[43mrun\u001b[49m\u001b[43m(\u001b[49m\u001b[43m  \u001b[49m\u001b[38;5;66;43;03m# pyright: ignore[reportUnknownMemberType]\u001b[39;49;00m\n\u001b[1;32m    368\u001b[0m \u001b[43m    \u001b[49m\u001b[43mapp\u001b[49m\u001b[43m,\u001b[49m\n\u001b[1;32m    369\u001b[0m \u001b[43m    \u001b[49m\u001b[43mhost\u001b[49m\u001b[38;5;241;43m=\u001b[39;49m\u001b[43mhost\u001b[49m\u001b[43m,\u001b[49m\n\u001b[1;32m    370\u001b[0m \u001b[43m    \u001b[49m\u001b[43mport\u001b[49m\u001b[38;5;241;43m=\u001b[39;49m\u001b[43mport\u001b[49m\u001b[43m,\u001b[49m\n\u001b[1;32m    371\u001b[0m \u001b[43m    \u001b[49m\u001b[43mws_max_size\u001b[49m\u001b[38;5;241;43m=\u001b[39;49m\u001b[43mws_max_size\u001b[49m\u001b[43m,\u001b[49m\n\u001b[1;32m    372\u001b[0m \u001b[43m    \u001b[49m\u001b[43mlog_level\u001b[49m\u001b[38;5;241;43m=\u001b[39;49m\u001b[43mlog_level\u001b[49m\u001b[43m,\u001b[49m\n\u001b[1;32m    373\u001b[0m \u001b[43m    \u001b[49m\u001b[43mlog_config\u001b[49m\u001b[38;5;241;43m=\u001b[39;49m\u001b[43mlog_config\u001b[49m\u001b[43m,\u001b[49m\n\u001b[1;32m    374\u001b[0m \u001b[43m    \u001b[49m\u001b[43mapp_dir\u001b[49m\u001b[38;5;241;43m=\u001b[39;49m\u001b[43mapp_dir\u001b[49m\u001b[43m,\u001b[49m\n\u001b[1;32m    375\u001b[0m \u001b[43m    \u001b[49m\u001b[43mfactory\u001b[49m\u001b[38;5;241;43m=\u001b[39;49m\u001b[43mfactory\u001b[49m\u001b[43m,\u001b[49m\n\u001b[1;32m    376\u001b[0m \u001b[43m    \u001b[49m\u001b[43mlifespan\u001b[49m\u001b[38;5;241;43m=\u001b[39;49m\u001b[38;5;124;43m\"\u001b[39;49m\u001b[38;5;124;43mon\u001b[39;49m\u001b[38;5;124;43m\"\u001b[39;49m\u001b[43m,\u001b[49m\n\u001b[1;32m    377\u001b[0m \u001b[43m    \u001b[49m\u001b[38;5;66;43;03m# Don't allow shiny to use uvloop!\u001b[39;49;00m\n\u001b[1;32m    378\u001b[0m \u001b[43m    \u001b[49m\u001b[38;5;66;43;03m# https://github.com/posit-dev/py-shiny/issues/1373\u001b[39;49;00m\n\u001b[1;32m    379\u001b[0m \u001b[43m    \u001b[49m\u001b[43mloop\u001b[49m\u001b[38;5;241;43m=\u001b[39;49m\u001b[38;5;124;43m\"\u001b[39;49m\u001b[38;5;124;43masyncio\u001b[39;49m\u001b[38;5;124;43m\"\u001b[39;49m\u001b[43m,\u001b[49m\n\u001b[1;32m    380\u001b[0m \u001b[43m    \u001b[49m\u001b[38;5;241;43m*\u001b[39;49m\u001b[38;5;241;43m*\u001b[39;49m\u001b[43mreload_args\u001b[49m\u001b[43m,\u001b[49m\u001b[43m  \u001b[49m\u001b[38;5;66;43;03m# pyright: ignore[reportArgumentType]\u001b[39;49;00m\n\u001b[1;32m    381\u001b[0m \u001b[43m    \u001b[49m\u001b[38;5;241;43m*\u001b[39;49m\u001b[38;5;241;43m*\u001b[39;49m\u001b[43mkwargs\u001b[49m\u001b[43m,\u001b[49m\n\u001b[1;32m    382\u001b[0m \u001b[43m\u001b[49m\u001b[43m)\u001b[49m\n",
      "File \u001b[0;32m~/miniconda3/lib/python3.12/site-packages/uvicorn/main.py:579\u001b[0m, in \u001b[0;36mrun\u001b[0;34m(app, host, port, uds, fd, loop, http, ws, ws_max_size, ws_max_queue, ws_ping_interval, ws_ping_timeout, ws_per_message_deflate, lifespan, interface, reload, reload_dirs, reload_includes, reload_excludes, reload_delay, workers, env_file, log_config, log_level, access_log, proxy_headers, server_header, date_header, forwarded_allow_ips, root_path, limit_concurrency, backlog, limit_max_requests, timeout_keep_alive, timeout_graceful_shutdown, ssl_keyfile, ssl_certfile, ssl_keyfile_password, ssl_version, ssl_cert_reqs, ssl_ca_certs, ssl_ciphers, headers, use_colors, app_dir, factory, h11_max_incomplete_event_size)\u001b[0m\n\u001b[1;32m    578\u001b[0m     \u001b[38;5;28;01melse\u001b[39;00m:\n\u001b[0;32m--> 579\u001b[0m         \u001b[43mserver\u001b[49m\u001b[38;5;241;43m.\u001b[39;49m\u001b[43mrun\u001b[49m\u001b[43m(\u001b[49m\u001b[43m)\u001b[49m\n\u001b[1;32m    580\u001b[0m \u001b[38;5;28;01mexcept\u001b[39;00m \u001b[38;5;167;01mKeyboardInterrupt\u001b[39;00m:\n",
      "File \u001b[0;32m~/miniconda3/lib/python3.12/site-packages/uvicorn/server.py:65\u001b[0m, in \u001b[0;36mServer.run\u001b[0;34m(self, sockets)\u001b[0m\n\u001b[1;32m     64\u001b[0m \u001b[38;5;28mself\u001b[39m\u001b[38;5;241m.\u001b[39mconfig\u001b[38;5;241m.\u001b[39msetup_event_loop()\n\u001b[0;32m---> 65\u001b[0m \u001b[38;5;28;01mreturn\u001b[39;00m \u001b[43masyncio\u001b[49m\u001b[38;5;241;43m.\u001b[39;49m\u001b[43mrun\u001b[49m\u001b[43m(\u001b[49m\u001b[38;5;28;43mself\u001b[39;49m\u001b[38;5;241;43m.\u001b[39;49m\u001b[43mserve\u001b[49m\u001b[43m(\u001b[49m\u001b[43msockets\u001b[49m\u001b[38;5;241;43m=\u001b[39;49m\u001b[43msockets\u001b[49m\u001b[43m)\u001b[49m\u001b[43m)\u001b[49m\n",
      "File \u001b[0;32m~/.local/lib/python3.12/site-packages/nest_asyncio.py:30\u001b[0m, in \u001b[0;36m_patch_asyncio.<locals>.run\u001b[0;34m(main, debug)\u001b[0m\n\u001b[1;32m     29\u001b[0m \u001b[38;5;28;01mtry\u001b[39;00m:\n\u001b[0;32m---> 30\u001b[0m     \u001b[38;5;28;01mreturn\u001b[39;00m \u001b[43mloop\u001b[49m\u001b[38;5;241;43m.\u001b[39;49m\u001b[43mrun_until_complete\u001b[49m\u001b[43m(\u001b[49m\u001b[43mtask\u001b[49m\u001b[43m)\u001b[49m\n\u001b[1;32m     31\u001b[0m \u001b[38;5;28;01mfinally\u001b[39;00m:\n",
      "File \u001b[0;32m~/.local/lib/python3.12/site-packages/nest_asyncio.py:92\u001b[0m, in \u001b[0;36m_patch_loop.<locals>.run_until_complete\u001b[0;34m(self, future)\u001b[0m\n\u001b[1;32m     91\u001b[0m \u001b[38;5;28;01mwhile\u001b[39;00m \u001b[38;5;129;01mnot\u001b[39;00m f\u001b[38;5;241m.\u001b[39mdone():\n\u001b[0;32m---> 92\u001b[0m     \u001b[38;5;28;43mself\u001b[39;49m\u001b[38;5;241;43m.\u001b[39;49m\u001b[43m_run_once\u001b[49m\u001b[43m(\u001b[49m\u001b[43m)\u001b[49m\n\u001b[1;32m     93\u001b[0m     \u001b[38;5;28;01mif\u001b[39;00m \u001b[38;5;28mself\u001b[39m\u001b[38;5;241m.\u001b[39m_stopping:\n",
      "File \u001b[0;32m~/.local/lib/python3.12/site-packages/nest_asyncio.py:133\u001b[0m, in \u001b[0;36m_patch_loop.<locals>._run_once\u001b[0;34m(self)\u001b[0m\n\u001b[1;32m    132\u001b[0m \u001b[38;5;28;01mtry\u001b[39;00m:\n\u001b[0;32m--> 133\u001b[0m     \u001b[43mhandle\u001b[49m\u001b[38;5;241;43m.\u001b[39;49m\u001b[43m_run\u001b[49m\u001b[43m(\u001b[49m\u001b[43m)\u001b[49m\n\u001b[1;32m    134\u001b[0m \u001b[38;5;28;01mfinally\u001b[39;00m:\n\u001b[1;32m    135\u001b[0m     \u001b[38;5;66;03m# restore the current task\u001b[39;00m\n",
      "File \u001b[0;32m~/miniconda3/lib/python3.12/asyncio/events.py:88\u001b[0m, in \u001b[0;36mHandle._run\u001b[0;34m(self)\u001b[0m\n\u001b[1;32m     87\u001b[0m \u001b[38;5;28;01mtry\u001b[39;00m:\n\u001b[0;32m---> 88\u001b[0m     \u001b[38;5;28;43mself\u001b[39;49m\u001b[38;5;241;43m.\u001b[39;49m\u001b[43m_context\u001b[49m\u001b[38;5;241;43m.\u001b[39;49m\u001b[43mrun\u001b[49m\u001b[43m(\u001b[49m\u001b[38;5;28;43mself\u001b[39;49m\u001b[38;5;241;43m.\u001b[39;49m\u001b[43m_callback\u001b[49m\u001b[43m,\u001b[49m\u001b[43m \u001b[49m\u001b[38;5;241;43m*\u001b[39;49m\u001b[38;5;28;43mself\u001b[39;49m\u001b[38;5;241;43m.\u001b[39;49m\u001b[43m_args\u001b[49m\u001b[43m)\u001b[49m\n\u001b[1;32m     89\u001b[0m \u001b[38;5;28;01mexcept\u001b[39;00m (\u001b[38;5;167;01mSystemExit\u001b[39;00m, \u001b[38;5;167;01mKeyboardInterrupt\u001b[39;00m):\n",
      "File \u001b[0;32m~/miniconda3/lib/python3.12/asyncio/tasks.py:396\u001b[0m, in \u001b[0;36mTask.__wakeup\u001b[0;34m(self, future)\u001b[0m\n\u001b[1;32m    389\u001b[0m \u001b[38;5;28;01melse\u001b[39;00m:\n\u001b[1;32m    390\u001b[0m     \u001b[38;5;66;03m# Don't pass the value of `future.result()` explicitly,\u001b[39;00m\n\u001b[1;32m    391\u001b[0m     \u001b[38;5;66;03m# as `Future.__iter__` and `Future.__await__` don't need it.\u001b[39;00m\n\u001b[0;32m   (...)\u001b[0m\n\u001b[1;32m    394\u001b[0m     \u001b[38;5;66;03m# instead of `__next__()`, which is slower for futures\u001b[39;00m\n\u001b[1;32m    395\u001b[0m     \u001b[38;5;66;03m# that return non-generator iterators from their `__iter__`.\u001b[39;00m\n\u001b[0;32m--> 396\u001b[0m     \u001b[38;5;28;43mself\u001b[39;49m\u001b[38;5;241;43m.\u001b[39;49m\u001b[43m__step\u001b[49m\u001b[43m(\u001b[49m\u001b[43m)\u001b[49m\n\u001b[1;32m    397\u001b[0m \u001b[38;5;28mself\u001b[39m \u001b[38;5;241m=\u001b[39m \u001b[38;5;28;01mNone\u001b[39;00m\n",
      "File \u001b[0;32m~/miniconda3/lib/python3.12/asyncio/tasks.py:303\u001b[0m, in \u001b[0;36mTask.__step\u001b[0;34m(self, exc)\u001b[0m\n\u001b[1;32m    302\u001b[0m \u001b[38;5;28;01mtry\u001b[39;00m:\n\u001b[0;32m--> 303\u001b[0m     \u001b[38;5;28;43mself\u001b[39;49m\u001b[38;5;241;43m.\u001b[39;49m\u001b[43m__step_run_and_handle_result\u001b[49m\u001b[43m(\u001b[49m\u001b[43mexc\u001b[49m\u001b[43m)\u001b[49m\n\u001b[1;32m    304\u001b[0m \u001b[38;5;28;01mfinally\u001b[39;00m:\n",
      "File \u001b[0;32m~/miniconda3/lib/python3.12/asyncio/tasks.py:314\u001b[0m, in \u001b[0;36mTask.__step_run_and_handle_result\u001b[0;34m(***failed resolving arguments***)\u001b[0m\n\u001b[1;32m    311\u001b[0m \u001b[38;5;28;01mif\u001b[39;00m exc \u001b[38;5;129;01mis\u001b[39;00m \u001b[38;5;28;01mNone\u001b[39;00m:\n\u001b[1;32m    312\u001b[0m     \u001b[38;5;66;03m# We use the `send` method directly, because coroutines\u001b[39;00m\n\u001b[1;32m    313\u001b[0m     \u001b[38;5;66;03m# don't have `__iter__` and `__next__` methods.\u001b[39;00m\n\u001b[0;32m--> 314\u001b[0m     result \u001b[38;5;241m=\u001b[39m \u001b[43mcoro\u001b[49m\u001b[38;5;241;43m.\u001b[39;49m\u001b[43msend\u001b[49m\u001b[43m(\u001b[49m\u001b[38;5;28;43;01mNone\u001b[39;49;00m\u001b[43m)\u001b[49m\n\u001b[1;32m    315\u001b[0m \u001b[38;5;28;01melse\u001b[39;00m:\n",
      "File \u001b[0;32m~/miniconda3/lib/python3.12/site-packages/uvicorn/server.py:69\u001b[0m, in \u001b[0;36mServer.serve\u001b[0;34m(self, sockets)\u001b[0m\n\u001b[1;32m     68\u001b[0m \u001b[38;5;28;01mwith\u001b[39;00m \u001b[38;5;28mself\u001b[39m\u001b[38;5;241m.\u001b[39mcapture_signals():\n\u001b[0;32m---> 69\u001b[0m     \u001b[38;5;28;01mawait\u001b[39;00m \u001b[38;5;28mself\u001b[39m\u001b[38;5;241m.\u001b[39m_serve(sockets)\n",
      "File \u001b[0;32m~/miniconda3/lib/python3.12/site-packages/uvicorn/server.py:84\u001b[0m, in \u001b[0;36mServer._serve\u001b[0;34m(self, sockets)\u001b[0m\n\u001b[1;32m     82\u001b[0m logger\u001b[38;5;241m.\u001b[39minfo(message, process_id, extra\u001b[38;5;241m=\u001b[39m{\u001b[38;5;124m\"\u001b[39m\u001b[38;5;124mcolor_message\u001b[39m\u001b[38;5;124m\"\u001b[39m: color_message})\n\u001b[0;32m---> 84\u001b[0m \u001b[38;5;28;01mawait\u001b[39;00m \u001b[38;5;28mself\u001b[39m\u001b[38;5;241m.\u001b[39mstartup(sockets\u001b[38;5;241m=\u001b[39msockets)\n\u001b[1;32m     85\u001b[0m \u001b[38;5;28;01mif\u001b[39;00m \u001b[38;5;28mself\u001b[39m\u001b[38;5;241m.\u001b[39mshould_exit:\n",
      "File \u001b[0;32m~/miniconda3/lib/python3.12/site-packages/uvicorn/server.py:172\u001b[0m, in \u001b[0;36mServer.startup\u001b[0;34m(self, sockets)\u001b[0m\n\u001b[1;32m    171\u001b[0m     \u001b[38;5;28;01mawait\u001b[39;00m \u001b[38;5;28mself\u001b[39m\u001b[38;5;241m.\u001b[39mlifespan\u001b[38;5;241m.\u001b[39mshutdown()\n\u001b[0;32m--> 172\u001b[0m     \u001b[43msys\u001b[49m\u001b[38;5;241;43m.\u001b[39;49m\u001b[43mexit\u001b[49m\u001b[43m(\u001b[49m\u001b[38;5;241;43m1\u001b[39;49m\u001b[43m)\u001b[49m\n\u001b[1;32m    174\u001b[0m \u001b[38;5;28;01massert\u001b[39;00m server\u001b[38;5;241m.\u001b[39msockets \u001b[38;5;129;01mis\u001b[39;00m \u001b[38;5;129;01mnot\u001b[39;00m \u001b[38;5;28;01mNone\u001b[39;00m\n",
      "\u001b[0;31mSystemExit\u001b[0m: 1",
      "\nDuring handling of the above exception, another exception occurred:\n",
      "\u001b[0;31mAttributeError\u001b[0m                            Traceback (most recent call last)",
      "    \u001b[0;31m[... skipping hidden 1 frame]\u001b[0m\n",
      "File \u001b[0;32m~/miniconda3/lib/python3.12/site-packages/IPython/core/interactiveshell.py:2121\u001b[0m, in \u001b[0;36mInteractiveShell.showtraceback\u001b[0;34m(self, exc_tuple, filename, tb_offset, exception_only, running_compiled_code)\u001b[0m\n\u001b[1;32m   2118\u001b[0m \u001b[38;5;28;01mif\u001b[39;00m exception_only:\n\u001b[1;32m   2119\u001b[0m     stb \u001b[38;5;241m=\u001b[39m [\u001b[38;5;124m'\u001b[39m\u001b[38;5;124mAn exception has occurred, use \u001b[39m\u001b[38;5;124m%\u001b[39m\u001b[38;5;124mtb to see \u001b[39m\u001b[38;5;124m'\u001b[39m\n\u001b[1;32m   2120\u001b[0m            \u001b[38;5;124m'\u001b[39m\u001b[38;5;124mthe full traceback.\u001b[39m\u001b[38;5;130;01m\\n\u001b[39;00m\u001b[38;5;124m'\u001b[39m]\n\u001b[0;32m-> 2121\u001b[0m     stb\u001b[38;5;241m.\u001b[39mextend(\u001b[38;5;28;43mself\u001b[39;49m\u001b[38;5;241;43m.\u001b[39;49m\u001b[43mInteractiveTB\u001b[49m\u001b[38;5;241;43m.\u001b[39;49m\u001b[43mget_exception_only\u001b[49m\u001b[43m(\u001b[49m\u001b[43metype\u001b[49m\u001b[43m,\u001b[49m\n\u001b[1;32m   2122\u001b[0m \u001b[43m                                                     \u001b[49m\u001b[43mvalue\u001b[49m\u001b[43m)\u001b[49m)\n\u001b[1;32m   2123\u001b[0m \u001b[38;5;28;01melse\u001b[39;00m:\n\u001b[1;32m   2125\u001b[0m     \u001b[38;5;28;01mdef\u001b[39;00m \u001b[38;5;21mcontains_exceptiongroup\u001b[39m(val):\n",
      "File \u001b[0;32m~/miniconda3/lib/python3.12/site-packages/IPython/core/ultratb.py:710\u001b[0m, in \u001b[0;36mListTB.get_exception_only\u001b[0;34m(self, etype, value)\u001b[0m\n\u001b[1;32m    702\u001b[0m \u001b[38;5;28;01mdef\u001b[39;00m \u001b[38;5;21mget_exception_only\u001b[39m(\u001b[38;5;28mself\u001b[39m, etype, value):\n\u001b[1;32m    703\u001b[0m \u001b[38;5;250m    \u001b[39m\u001b[38;5;124;03m\"\"\"Only print the exception type and message, without a traceback.\u001b[39;00m\n\u001b[1;32m    704\u001b[0m \n\u001b[1;32m    705\u001b[0m \u001b[38;5;124;03m    Parameters\u001b[39;00m\n\u001b[0;32m   (...)\u001b[0m\n\u001b[1;32m    708\u001b[0m \u001b[38;5;124;03m    value : exception value\u001b[39;00m\n\u001b[1;32m    709\u001b[0m \u001b[38;5;124;03m    \"\"\"\u001b[39;00m\n\u001b[0;32m--> 710\u001b[0m     \u001b[38;5;28;01mreturn\u001b[39;00m \u001b[43mListTB\u001b[49m\u001b[38;5;241;43m.\u001b[39;49m\u001b[43mstructured_traceback\u001b[49m\u001b[43m(\u001b[49m\u001b[38;5;28;43mself\u001b[39;49m\u001b[43m,\u001b[49m\u001b[43m \u001b[49m\u001b[43metype\u001b[49m\u001b[43m,\u001b[49m\u001b[43m \u001b[49m\u001b[43mvalue\u001b[49m\u001b[43m)\u001b[49m\n",
      "File \u001b[0;32m~/miniconda3/lib/python3.12/site-packages/IPython/core/ultratb.py:568\u001b[0m, in \u001b[0;36mListTB.structured_traceback\u001b[0;34m(self, etype, evalue, etb, tb_offset, context)\u001b[0m\n\u001b[1;32m    565\u001b[0m     chained_exc_ids\u001b[38;5;241m.\u001b[39madd(\u001b[38;5;28mid\u001b[39m(exception[\u001b[38;5;241m1\u001b[39m]))\n\u001b[1;32m    566\u001b[0m     chained_exceptions_tb_offset \u001b[38;5;241m=\u001b[39m \u001b[38;5;241m0\u001b[39m\n\u001b[1;32m    567\u001b[0m     out_list \u001b[38;5;241m=\u001b[39m (\n\u001b[0;32m--> 568\u001b[0m         \u001b[38;5;28;43mself\u001b[39;49m\u001b[38;5;241;43m.\u001b[39;49m\u001b[43mstructured_traceback\u001b[49m\u001b[43m(\u001b[49m\n\u001b[1;32m    569\u001b[0m \u001b[43m            \u001b[49m\u001b[43metype\u001b[49m\u001b[43m,\u001b[49m\n\u001b[1;32m    570\u001b[0m \u001b[43m            \u001b[49m\u001b[43mevalue\u001b[49m\u001b[43m,\u001b[49m\n\u001b[1;32m    571\u001b[0m \u001b[43m            \u001b[49m\u001b[43m(\u001b[49m\u001b[43metb\u001b[49m\u001b[43m,\u001b[49m\u001b[43m \u001b[49m\u001b[43mchained_exc_ids\u001b[49m\u001b[43m)\u001b[49m\u001b[43m,\u001b[49m\u001b[43m  \u001b[49m\u001b[38;5;66;43;03m# type: ignore\u001b[39;49;00m\n\u001b[1;32m    572\u001b[0m \u001b[43m            \u001b[49m\u001b[43mchained_exceptions_tb_offset\u001b[49m\u001b[43m,\u001b[49m\n\u001b[1;32m    573\u001b[0m \u001b[43m            \u001b[49m\u001b[43mcontext\u001b[49m\u001b[43m,\u001b[49m\n\u001b[1;32m    574\u001b[0m \u001b[43m        \u001b[49m\u001b[43m)\u001b[49m\n\u001b[1;32m    575\u001b[0m         \u001b[38;5;241m+\u001b[39m chained_exception_message\n\u001b[1;32m    576\u001b[0m         \u001b[38;5;241m+\u001b[39m out_list)\n\u001b[1;32m    578\u001b[0m \u001b[38;5;28;01mreturn\u001b[39;00m out_list\n",
      "File \u001b[0;32m~/miniconda3/lib/python3.12/site-packages/IPython/core/ultratb.py:1435\u001b[0m, in \u001b[0;36mAutoFormattedTB.structured_traceback\u001b[0;34m(self, etype, evalue, etb, tb_offset, number_of_lines_of_context)\u001b[0m\n\u001b[1;32m   1433\u001b[0m \u001b[38;5;28;01melse\u001b[39;00m:\n\u001b[1;32m   1434\u001b[0m     \u001b[38;5;28mself\u001b[39m\u001b[38;5;241m.\u001b[39mtb \u001b[38;5;241m=\u001b[39m etb\n\u001b[0;32m-> 1435\u001b[0m \u001b[38;5;28;01mreturn\u001b[39;00m \u001b[43mFormattedTB\u001b[49m\u001b[38;5;241;43m.\u001b[39;49m\u001b[43mstructured_traceback\u001b[49m\u001b[43m(\u001b[49m\n\u001b[1;32m   1436\u001b[0m \u001b[43m    \u001b[49m\u001b[38;5;28;43mself\u001b[39;49m\u001b[43m,\u001b[49m\u001b[43m \u001b[49m\u001b[43metype\u001b[49m\u001b[43m,\u001b[49m\u001b[43m \u001b[49m\u001b[43mevalue\u001b[49m\u001b[43m,\u001b[49m\u001b[43m \u001b[49m\u001b[43metb\u001b[49m\u001b[43m,\u001b[49m\u001b[43m \u001b[49m\u001b[43mtb_offset\u001b[49m\u001b[43m,\u001b[49m\u001b[43m \u001b[49m\u001b[43mnumber_of_lines_of_context\u001b[49m\n\u001b[1;32m   1437\u001b[0m \u001b[43m\u001b[49m\u001b[43m)\u001b[49m\n",
      "File \u001b[0;32m~/miniconda3/lib/python3.12/site-packages/IPython/core/ultratb.py:1326\u001b[0m, in \u001b[0;36mFormattedTB.structured_traceback\u001b[0;34m(self, etype, value, tb, tb_offset, number_of_lines_of_context)\u001b[0m\n\u001b[1;32m   1323\u001b[0m mode \u001b[38;5;241m=\u001b[39m \u001b[38;5;28mself\u001b[39m\u001b[38;5;241m.\u001b[39mmode\n\u001b[1;32m   1324\u001b[0m \u001b[38;5;28;01mif\u001b[39;00m mode \u001b[38;5;129;01min\u001b[39;00m \u001b[38;5;28mself\u001b[39m\u001b[38;5;241m.\u001b[39mverbose_modes:\n\u001b[1;32m   1325\u001b[0m     \u001b[38;5;66;03m# Verbose modes need a full traceback\u001b[39;00m\n\u001b[0;32m-> 1326\u001b[0m     \u001b[38;5;28;01mreturn\u001b[39;00m \u001b[43mVerboseTB\u001b[49m\u001b[38;5;241;43m.\u001b[39;49m\u001b[43mstructured_traceback\u001b[49m\u001b[43m(\u001b[49m\n\u001b[1;32m   1327\u001b[0m \u001b[43m        \u001b[49m\u001b[38;5;28;43mself\u001b[39;49m\u001b[43m,\u001b[49m\u001b[43m \u001b[49m\u001b[43metype\u001b[49m\u001b[43m,\u001b[49m\u001b[43m \u001b[49m\u001b[43mvalue\u001b[49m\u001b[43m,\u001b[49m\u001b[43m \u001b[49m\u001b[43mtb\u001b[49m\u001b[43m,\u001b[49m\u001b[43m \u001b[49m\u001b[43mtb_offset\u001b[49m\u001b[43m,\u001b[49m\u001b[43m \u001b[49m\u001b[43mnumber_of_lines_of_context\u001b[49m\n\u001b[1;32m   1328\u001b[0m \u001b[43m    \u001b[49m\u001b[43m)\u001b[49m\n\u001b[1;32m   1329\u001b[0m \u001b[38;5;28;01melif\u001b[39;00m mode \u001b[38;5;241m==\u001b[39m \u001b[38;5;124m'\u001b[39m\u001b[38;5;124mMinimal\u001b[39m\u001b[38;5;124m'\u001b[39m:\n\u001b[1;32m   1330\u001b[0m     \u001b[38;5;28;01mreturn\u001b[39;00m ListTB\u001b[38;5;241m.\u001b[39mget_exception_only(\u001b[38;5;28mself\u001b[39m, etype, value)\n",
      "File \u001b[0;32m~/miniconda3/lib/python3.12/site-packages/IPython/core/ultratb.py:1173\u001b[0m, in \u001b[0;36mVerboseTB.structured_traceback\u001b[0;34m(self, etype, evalue, etb, tb_offset, number_of_lines_of_context)\u001b[0m\n\u001b[1;32m   1164\u001b[0m \u001b[38;5;28;01mdef\u001b[39;00m \u001b[38;5;21mstructured_traceback\u001b[39m(\n\u001b[1;32m   1165\u001b[0m     \u001b[38;5;28mself\u001b[39m,\n\u001b[1;32m   1166\u001b[0m     etype: \u001b[38;5;28mtype\u001b[39m,\n\u001b[0;32m   (...)\u001b[0m\n\u001b[1;32m   1170\u001b[0m     number_of_lines_of_context: \u001b[38;5;28mint\u001b[39m \u001b[38;5;241m=\u001b[39m \u001b[38;5;241m5\u001b[39m,\n\u001b[1;32m   1171\u001b[0m ):\n\u001b[1;32m   1172\u001b[0m \u001b[38;5;250m    \u001b[39m\u001b[38;5;124;03m\"\"\"Return a nice text document describing the traceback.\"\"\"\u001b[39;00m\n\u001b[0;32m-> 1173\u001b[0m     formatted_exception \u001b[38;5;241m=\u001b[39m \u001b[38;5;28;43mself\u001b[39;49m\u001b[38;5;241;43m.\u001b[39;49m\u001b[43mformat_exception_as_a_whole\u001b[49m\u001b[43m(\u001b[49m\u001b[43metype\u001b[49m\u001b[43m,\u001b[49m\u001b[43m \u001b[49m\u001b[43mevalue\u001b[49m\u001b[43m,\u001b[49m\u001b[43m \u001b[49m\u001b[43metb\u001b[49m\u001b[43m,\u001b[49m\u001b[43m \u001b[49m\u001b[43mnumber_of_lines_of_context\u001b[49m\u001b[43m,\u001b[49m\n\u001b[1;32m   1174\u001b[0m \u001b[43m                                                           \u001b[49m\u001b[43mtb_offset\u001b[49m\u001b[43m)\u001b[49m\n\u001b[1;32m   1176\u001b[0m     colors \u001b[38;5;241m=\u001b[39m \u001b[38;5;28mself\u001b[39m\u001b[38;5;241m.\u001b[39mColors  \u001b[38;5;66;03m# just a shorthand + quicker name lookup\u001b[39;00m\n\u001b[1;32m   1177\u001b[0m     colorsnormal \u001b[38;5;241m=\u001b[39m colors\u001b[38;5;241m.\u001b[39mNormal  \u001b[38;5;66;03m# used a lot\u001b[39;00m\n",
      "File \u001b[0;32m~/miniconda3/lib/python3.12/site-packages/IPython/core/ultratb.py:1063\u001b[0m, in \u001b[0;36mVerboseTB.format_exception_as_a_whole\u001b[0;34m(self, etype, evalue, etb, number_of_lines_of_context, tb_offset)\u001b[0m\n\u001b[1;32m   1060\u001b[0m \u001b[38;5;28;01massert\u001b[39;00m \u001b[38;5;28misinstance\u001b[39m(tb_offset, \u001b[38;5;28mint\u001b[39m)\n\u001b[1;32m   1061\u001b[0m head \u001b[38;5;241m=\u001b[39m \u001b[38;5;28mself\u001b[39m\u001b[38;5;241m.\u001b[39mprepare_header(\u001b[38;5;28mstr\u001b[39m(etype), \u001b[38;5;28mself\u001b[39m\u001b[38;5;241m.\u001b[39mlong_header)\n\u001b[1;32m   1062\u001b[0m records \u001b[38;5;241m=\u001b[39m (\n\u001b[0;32m-> 1063\u001b[0m     \u001b[38;5;28;43mself\u001b[39;49m\u001b[38;5;241;43m.\u001b[39;49m\u001b[43mget_records\u001b[49m\u001b[43m(\u001b[49m\u001b[43metb\u001b[49m\u001b[43m,\u001b[49m\u001b[43m \u001b[49m\u001b[43mnumber_of_lines_of_context\u001b[49m\u001b[43m,\u001b[49m\u001b[43m \u001b[49m\u001b[43mtb_offset\u001b[49m\u001b[43m)\u001b[49m \u001b[38;5;28;01mif\u001b[39;00m etb \u001b[38;5;28;01melse\u001b[39;00m []\n\u001b[1;32m   1064\u001b[0m )\n\u001b[1;32m   1066\u001b[0m frames \u001b[38;5;241m=\u001b[39m []\n\u001b[1;32m   1067\u001b[0m skipped \u001b[38;5;241m=\u001b[39m \u001b[38;5;241m0\u001b[39m\n",
      "File \u001b[0;32m~/miniconda3/lib/python3.12/site-packages/IPython/core/ultratb.py:1131\u001b[0m, in \u001b[0;36mVerboseTB.get_records\u001b[0;34m(self, etb, number_of_lines_of_context, tb_offset)\u001b[0m\n\u001b[1;32m   1129\u001b[0m \u001b[38;5;28;01mwhile\u001b[39;00m cf \u001b[38;5;129;01mis\u001b[39;00m \u001b[38;5;129;01mnot\u001b[39;00m \u001b[38;5;28;01mNone\u001b[39;00m:\n\u001b[1;32m   1130\u001b[0m     \u001b[38;5;28;01mtry\u001b[39;00m:\n\u001b[0;32m-> 1131\u001b[0m         mod \u001b[38;5;241m=\u001b[39m inspect\u001b[38;5;241m.\u001b[39mgetmodule(\u001b[43mcf\u001b[49m\u001b[38;5;241;43m.\u001b[39;49m\u001b[43mtb_frame\u001b[49m)\n\u001b[1;32m   1132\u001b[0m         \u001b[38;5;28;01mif\u001b[39;00m mod \u001b[38;5;129;01mis\u001b[39;00m \u001b[38;5;129;01mnot\u001b[39;00m \u001b[38;5;28;01mNone\u001b[39;00m:\n\u001b[1;32m   1133\u001b[0m             mod_name \u001b[38;5;241m=\u001b[39m mod\u001b[38;5;241m.\u001b[39m\u001b[38;5;18m__name__\u001b[39m\n",
      "\u001b[0;31mAttributeError\u001b[0m: 'tuple' object has no attribute 'tb_frame'"
     ]
    },
    {
     "ename": "",
     "evalue": "",
     "output_type": "error",
     "traceback": [
      "\u001b[1;31mThe Kernel crashed while executing code in the current cell or a previous cell. \n",
      "\u001b[1;31mPlease review the code in the cell(s) to identify a possible cause of the failure. \n",
      "\u001b[1;31mClick <a href='https://aka.ms/vscodeJupyterKernelCrash'>here</a> for more info. \n",
      "\u001b[1;31mView Jupyter <a href='command:jupyter.viewOutput'>log</a> for further details."
     ]
    }
   ],
   "source": [
    "if __name__ == \"__main__\":\n",
    "    app.run()"
   ]
  },
  {
   "cell_type": "markdown",
   "metadata": {},
   "source": [
    "### Histogram Module\n",
    "\n",
    "The following runs with two copies of same module.\n",
    "It follows `@module` directions in \n",
    "[Shiny for Python: Module Communication](https://shiny.posit.co/py/docs/module-communication.html).\n",
    "I think I got `@module.ui` to work on multiple components."
   ]
  },
  {
   "cell_type": "code",
   "execution_count": 15,
   "metadata": {},
   "outputs": [],
   "source": [
    "%run hist2"
   ]
  },
  {
   "cell_type": "code",
   "execution_count": 16,
   "metadata": {},
   "outputs": [
    {
     "name": "stderr",
     "output_type": "stream",
     "text": [
      "INFO:     Started server process [33199]\n",
      "INFO:     Waiting for application startup.\n",
      "INFO:     Application startup complete.\n",
      "INFO:     Uvicorn running on http://127.0.0.1:8000 (Press CTRL+C to quit)\n"
     ]
    },
    {
     "name": "stdout",
     "output_type": "stream",
     "text": [
      "INFO:     127.0.0.1:62949 - \"GET / HTTP/1.1\" 200 OK\n"
     ]
    },
    {
     "name": "stderr",
     "output_type": "stream",
     "text": [
      "INFO:     ('127.0.0.1', 62952) - \"WebSocket /websocket/\" [accepted]\n",
      "INFO:     connection open\n"
     ]
    },
    {
     "name": "stderr",
     "output_type": "stream",
     "text": [
      "INFO:     connection closed\n"
     ]
    }
   ],
   "source": [
    "hist_app()"
   ]
  },
  {
   "cell_type": "code",
   "execution_count": 26,
   "metadata": {},
   "outputs": [],
   "source": [
    "%run hist"
   ]
  },
  {
   "cell_type": "code",
   "execution_count": null,
   "metadata": {},
   "outputs": [],
   "source": [
    "hist_app()"
   ]
  },
  {
   "cell_type": "markdown",
   "metadata": {},
   "source": [
    "### Geyser Module\n",
    "\n",
    "Same as hist2."
   ]
  },
  {
   "cell_type": "code",
   "execution_count": 2,
   "metadata": {},
   "outputs": [],
   "source": [
    "%run geyser"
   ]
  },
  {
   "cell_type": "code",
   "execution_count": 3,
   "metadata": {},
   "outputs": [
    {
     "name": "stderr",
     "output_type": "stream",
     "text": [
      "INFO:     Started server process [33518]\n",
      "INFO:     Waiting for application startup.\n",
      "INFO:     Application startup complete.\n",
      "INFO:     Uvicorn running on http://127.0.0.1:8000 (Press CTRL+C to quit)\n"
     ]
    },
    {
     "name": "stdout",
     "output_type": "stream",
     "text": [
      "INFO:     127.0.0.1:62992 - \"GET / HTTP/1.1\" 200 OK\n"
     ]
    },
    {
     "name": "stderr",
     "output_type": "stream",
     "text": [
      "INFO:     ('127.0.0.1', 62994) - \"WebSocket /websocket/\" [accepted]\n",
      "INFO:     connection open\n"
     ]
    },
    {
     "data": {
      "image/png": "[encoded data removed]",
      "text/plain": [
       "<Figure size 640x480 with 1 Axes>"
      ]
     },
     "metadata": {},
     "output_type": "display_data"
    },
    {
     "name": "stderr",
     "output_type": "stream",
     "text": [
      "INFO:     connection closed\n"
     ]
    }
   ],
   "source": [
    "geyserApp()"
   ]
  },
  {
   "cell_type": "code",
   "execution_count": null,
   "metadata": {},
   "outputs": [],
   "source": [
    "app_ui = ui.page_fluid(\n",
    "        geyserInput(\"geyser\"),\n",
    "        geyserOutput(\"geyser\"),\n",
    "        geyserUI(\"geyser\")\n",
    "    )\n",
    "def app_server(input, output, session):\n",
    "    geyserServer(\"geyser\")(input, output, session)\n",
    "\n",
    "app = App(app_ui, app_server)\n",
    "\n",
    "if __name__ == '__main__':\n",
    "    app.run()"
   ]
  },
  {
   "cell_type": "code",
   "execution_count": null,
   "metadata": {},
   "outputs": [],
   "source": [
    "geyserApp()"
   ]
  },
  {
   "cell_type": "code",
   "execution_count": 1,
   "metadata": {},
   "outputs": [],
   "source": [
    "from plotnine import *"
   ]
  },
  {
   "cell_type": "code",
   "execution_count": 2,
   "metadata": {},
   "outputs": [],
   "source": [
    "from plotnine.data import mpg"
   ]
  },
  {
   "cell_type": "code",
   "execution_count": 9,
   "metadata": {},
   "outputs": [
    {
     "name": "stdout",
     "output_type": "stream",
     "text": [
      "Help on class geom_histogram in module plotnine.geoms.geom_histogram:\n",
      "\n",
      "class geom_histogram(plotnine.geoms.geom_bar.geom_bar)\n",
      " |  geom_histogram(mapping: 'aes | None' = None, data: 'DataLike | None' = None, **kwargs: 'Any')\n",
      " |\n",
      " |  Histogram\n",
      " |\n",
      " |  **Usage**\n",
      " |\n",
      " |      geom_histogram(\n",
      " |          mapping=None,\n",
      " |          data=None,\n",
      " |          *,\n",
      " |          stat=\"bin\",\n",
      " |          position=\"stack\",\n",
      " |          na_rm=False,\n",
      " |          inherit_aes=True,\n",
      " |          show_legend=None,\n",
      " |          raster=False,\n",
      " |          **kwargs\n",
      " |      )\n",
      " |\n",
      " |  Parameters\n",
      " |  ----------\n",
      " |  mapping : ~plotnine.mapping.aes, default=None\n",
      " |      Aesthetic mappings created with [aes](:class:`plotnine.mapping.aes`). If specified and `inherit_aes=True`{.py}, it is combined with the default mapping for the plot. You must supply mapping if there is no plot mapping.\n",
      " |\n",
      " |       Aesthetic    Default value\n",
      " |      -----------  ----------------\n",
      " |      **x**\n",
      " |      **y**\n",
      " |      alpha        `1`{.py}\n",
      " |      color        `None`{.py}\n",
      " |      fill         `'#595959'`{.py}\n",
      " |      group\n",
      " |      linetype     `'solid'`{.py}\n",
      " |      size         `0.5`{.py}\n",
      " |\n",
      " |      The **bold** aesthetics are required.\n",
      " |  data : ~pandas.DataFrame, default=None\n",
      " |      The data to be displayed in this layer. If `None`{.py}, the data from from the `ggplot()`{.py} call is used. If specified, it overrides the data from the `ggplot()`{.py} call.\n",
      " |  stat : str | ~plotnine.stats.stat.stat, default=\"bin\"\n",
      " |      The statistical transformation to use on the data for this layer. If it is a string, it must be the registered and known to Plotnine.\n",
      " |  position : str | ~plotnine.positions.position.position, default=\"stack\"\n",
      " |      Position adjustment. If it is a string, it must be registered and known to Plotnine.\n",
      " |  na_rm : bool, default=False\n",
      " |      If `False`{.py}, removes missing values with a warning. If `True`{.py} silently removes missing values.\n",
      " |  inherit_aes : bool, default=True\n",
      " |      If `False`{.py}, overrides the default aesthetics.\n",
      " |  show_legend : bool | dict, default=None\n",
      " |      Whether this layer should be included in the legends. `None`{.py} the default, includes any aesthetics that are mapped. If a [](:class:`bool`), `False`{.py} never includes and `True`{.py} always includes. A [](:class:`dict`) can be used to *exclude* specific aesthetis of the layer from showing in the legend. e.g `show_legend={'color': False}`{.py}, any other aesthetic are included by default.\n",
      " |  raster : bool, default=False\n",
      " |      If `True`, draw onto this layer a raster (bitmap) object even ifthe final image is in vector format.\n",
      " |  **kwargs: Any\n",
      " |      Aesthetics or parameters used by the `stat`.\n",
      " |\n",
      " |  See Also\n",
      " |  --------\n",
      " |  plotnine.geom_bar\n",
      " |\n",
      " |  Method resolution order:\n",
      " |      geom_histogram\n",
      " |      plotnine.geoms.geom_bar.geom_bar\n",
      " |      plotnine.geoms.geom_rect.geom_rect\n",
      " |      plotnine.geoms.geom.geom\n",
      " |      abc.ABC\n",
      " |      builtins.object\n",
      " |\n",
      " |  Data and other attributes defined here:\n",
      " |\n",
      " |  DEFAULT_PARAMS = {'na_rm': False, 'position': 'stack', 'stat': 'bin'}\n",
      " |\n",
      " |  __abstractmethods__ = frozenset()\n",
      " |\n",
      " |  __annotations__ = {}\n",
      " |\n",
      " |  ----------------------------------------------------------------------\n",
      " |  Methods inherited from plotnine.geoms.geom_bar.geom_bar:\n",
      " |\n",
      " |  setup_data(self, data: 'pd.DataFrame') -> 'pd.DataFrame'\n",
      " |      Modify the data before drawing takes place\n",
      " |\n",
      " |      This function is called *before* position adjustments are done.\n",
      " |      It is used by geoms to create the final aesthetics used for\n",
      " |      drawing. The base class method does nothing, geoms can override\n",
      " |      this method for two reasons:\n",
      " |\n",
      " |      1. The `stat` does not create all the aesthetics (usually\n",
      " |         position aesthetics) required for drawing the `geom`,\n",
      " |         but those aesthetics can be computed from the available\n",
      " |         data. For example [](`~plotnine.geoms.geom_boxplot`)\n",
      " |         and [](`~plotnine.geoms.geom_violin`).\n",
      " |\n",
      " |      2. The `geom` inherits from another `geom` (superclass) which\n",
      " |         does the drawing and the superclass requires certain aesthetics\n",
      " |         to be present in the data. For example\n",
      " |         [](`~plotnine.geoms.geom_tile`) and\n",
      " |         [](`~plotnine.geoms.geom_area`).\n",
      " |\n",
      " |      Parameters\n",
      " |      ----------\n",
      " |      data :\n",
      " |          Data used for drawing the geom.\n",
      " |\n",
      " |      Returns\n",
      " |      -------\n",
      " |      :\n",
      " |          Data used for drawing the geom.\n",
      " |\n",
      " |  ----------------------------------------------------------------------\n",
      " |  Data and other attributes inherited from plotnine.geoms.geom_bar.geom_bar:\n",
      " |\n",
      " |  NON_MISSING_AES = {'xmax', 'xmin', 'ymax', 'ymin'}\n",
      " |\n",
      " |  REQUIRED_AES = {'x', 'y'}\n",
      " |\n",
      " |  ----------------------------------------------------------------------\n",
      " |  Methods inherited from plotnine.geoms.geom_rect.geom_rect:\n",
      " |\n",
      " |  draw_panel(self, data: 'pd.DataFrame', panel_params: 'panel_view', coord: 'coord', ax: 'Axes', **params: 'Any')\n",
      " |      Plot all groups\n",
      " |\n",
      " |  ----------------------------------------------------------------------\n",
      " |  Static methods inherited from plotnine.geoms.geom_rect.geom_rect:\n",
      " |\n",
      " |  draw_group(data: 'pd.DataFrame', panel_params: 'panel_view', coord: 'coord', ax: 'Axes', **params: 'Any')\n",
      " |      Plot data belonging to a group.\n",
      " |\n",
      " |      Parameters\n",
      " |      ----------\n",
      " |      data :\n",
      " |          Data to be plotted by this geom. This is the\n",
      " |          dataframe created in the plot_build pipeline.\n",
      " |      panel_params :\n",
      " |          The scale information as may be required by the\n",
      " |          axes. At this point, that information is about\n",
      " |          ranges, ticks and labels. Keys of interest to\n",
      " |          the geom are:\n",
      " |\n",
      " |          ```python\n",
      " |          \"x_range\"  # tuple\n",
      " |          \"y_range\"  # tuple\n",
      " |          ```\n",
      " |      coord : coord\n",
      " |          Coordinate (e.g. coord_cartesian) system of the geom.\n",
      " |      ax : axes\n",
      " |          Axes on which to plot.\n",
      " |      params : dict\n",
      " |          Combined parameters for the geom and stat. Also\n",
      " |          includes the `zorder`.\n",
      " |\n",
      " |  draw_legend(data: 'pd.Series[Any]', da: 'DrawingArea', lyr: 'layer') -> 'DrawingArea' from plotnine.geoms.geom_polygon.geom_polygon\n",
      " |      Draw a rectangle in the box\n",
      " |\n",
      " |      Parameters\n",
      " |      ----------\n",
      " |      data : Series\n",
      " |          Data Row\n",
      " |      da : DrawingArea\n",
      " |          Canvas\n",
      " |      lyr : layer\n",
      " |          Layer\n",
      " |\n",
      " |      Returns\n",
      " |      -------\n",
      " |      out : DrawingArea\n",
      " |\n",
      " |  ----------------------------------------------------------------------\n",
      " |  Data and other attributes inherited from plotnine.geoms.geom_rect.geom_rect:\n",
      " |\n",
      " |  DEFAULT_AES = {'alpha': 1, 'color': None, 'fill': '#595959', 'linetype...\n",
      " |\n",
      " |  ----------------------------------------------------------------------\n",
      " |  Methods inherited from plotnine.geoms.geom.geom:\n",
      " |\n",
      " |  __deepcopy__(self, memo: 'dict[Any, Any]') -> 'geom'\n",
      " |      Deep copy without copying the self.data dataframe\n",
      " |\n",
      " |      geoms should not override this method.\n",
      " |\n",
      " |  __init__(self, mapping: 'aes | None' = None, data: 'DataLike | None' = None, **kwargs: 'Any')\n",
      " |      Initialize self.  See help(type(self)) for accurate signature.\n",
      " |\n",
      " |  __radd__(self, plot: 'ggplot') -> 'ggplot'\n",
      " |      Add layer representing geom object on the right\n",
      " |\n",
      " |      Parameters\n",
      " |      ----------\n",
      " |      plot :\n",
      " |          ggplot object\n",
      " |\n",
      " |      Returns\n",
      " |      -------\n",
      " |      :\n",
      " |          ggplot object with added layer.\n",
      " |\n",
      " |  draw_layer(self, data: 'pd.DataFrame', layout: 'Layout', coord: 'coord', **params: 'Any')\n",
      " |      Draw layer across all panels\n",
      " |\n",
      " |      geoms should not override this method.\n",
      " |\n",
      " |      Parameters\n",
      " |      ----------\n",
      " |      data :\n",
      " |          DataFrame specific for this layer\n",
      " |      layout :\n",
      " |          Layout object created when the plot is getting\n",
      " |          built\n",
      " |      coord :\n",
      " |          Type of coordinate axes\n",
      " |      params :\n",
      " |          Combined *geom* and *stat* parameters. Also\n",
      " |          includes the stacking order of the layer in\n",
      " |          the plot (*zorder*)\n",
      " |\n",
      " |  handle_na(self, data: 'pd.DataFrame') -> 'pd.DataFrame'\n",
      " |      Remove rows with NaN values\n",
      " |\n",
      " |      geoms that infer extra information from missing values\n",
      " |      should override this method. For example\n",
      " |      [](`~plotnine.geoms.geom_path`).\n",
      " |\n",
      " |      Parameters\n",
      " |      ----------\n",
      " |      data :\n",
      " |          Data\n",
      " |\n",
      " |      Returns\n",
      " |      -------\n",
      " |      :\n",
      " |          Data without the NaNs.\n",
      " |\n",
      " |      Notes\n",
      " |      -----\n",
      " |      Shows a warning if the any rows are removed and the\n",
      " |      `na_rm` parameter is False. It only takes into account\n",
      " |      the columns of the required aesthetics.\n",
      " |\n",
      " |  to_layer(self) -> 'layer'\n",
      " |      Make a layer that represents this geom\n",
      " |\n",
      " |      Returns\n",
      " |      -------\n",
      " |      :\n",
      " |          Layer\n",
      " |\n",
      " |  use_defaults(self, data: 'pd.DataFrame', aes_modifiers: 'dict[str, Any]') -> 'pd.DataFrame'\n",
      " |      Combine data with defaults and set aesthetics from parameters\n",
      " |\n",
      " |      geoms should not override this method.\n",
      " |\n",
      " |      Parameters\n",
      " |      ----------\n",
      " |      data :\n",
      " |          Data used for drawing the geom.\n",
      " |      aes_modifiers :\n",
      " |          Aesthetics\n",
      " |\n",
      " |      Returns\n",
      " |      -------\n",
      " |      :\n",
      " |          Data used for drawing the geom.\n",
      " |\n",
      " |  ----------------------------------------------------------------------\n",
      " |  Class methods inherited from plotnine.geoms.geom.geom:\n",
      " |\n",
      " |  aesthetics() -> 'set[str]'\n",
      " |      Return all the aesthetics for this geom\n",
      " |\n",
      " |      geoms should not override this method.\n",
      " |\n",
      " |  ----------------------------------------------------------------------\n",
      " |  Static methods inherited from plotnine.geoms.geom.geom:\n",
      " |\n",
      " |  draw_unit(data: 'pd.DataFrame', panel_params: 'panel_view', coord: 'coord', ax: 'Axes', **params: 'Any')\n",
      " |      Plot data belonging to a unit.\n",
      " |\n",
      " |      A matplotlib plot function may require that an aethestic\n",
      " |      have a single unique value. e.g. `linestyle=\"dashed\"`{.py}\n",
      " |      and not `linestyle=[\"dashed\", \"dotted\", ...]`{.py}.\n",
      " |      A single call to such a function can only plot lines with\n",
      " |      the same linestyle. However, if the plot we want has more\n",
      " |      than one line with different linestyles, we need to group\n",
      " |      the lines with the same linestyle and plot them as one\n",
      " |      unit. In this case, draw_group calls this function to do\n",
      " |      the plotting. For an example see\n",
      " |      [](`~plotnine.geoms.geom_point`).\n",
      " |\n",
      " |      Parameters\n",
      " |      ----------\n",
      " |      data :\n",
      " |          Data to be plotted by this geom. This is the\n",
      " |          dataframe created in the plot_build pipeline.\n",
      " |      panel_params :\n",
      " |          The scale information as may be required by the\n",
      " |          axes. At this point, that information is about\n",
      " |          ranges, ticks and labels. Keys of interest to\n",
      " |          the geom are:\n",
      " |\n",
      " |          ```python\n",
      " |          \"x_range\"  # tuple\n",
      " |          \"y_range\"  # tuple\n",
      " |          ```\n",
      " |\n",
      " |          In rare cases a geom may need access to the x or y scales.\n",
      " |          Those are available at:\n",
      " |\n",
      " |          ```python\n",
      " |          \"scales\"   # SimpleNamespace\n",
      " |          ```\n",
      " |      coord :\n",
      " |          Coordinate (e.g. coord_cartesian) system of the\n",
      " |          geom.\n",
      " |      ax :\n",
      " |          Axes on which to plot.\n",
      " |      params :\n",
      " |          Combined parameters for the geom and stat. Also\n",
      " |          includes the `zorder`.\n",
      " |\n",
      " |  from_stat(stat: 'stat') -> 'geom'\n",
      " |      Return an instantiated geom object\n",
      " |\n",
      " |      geoms should not override this method.\n",
      " |\n",
      " |      Parameters\n",
      " |      ----------\n",
      " |      stat :\n",
      " |          `stat`\n",
      " |\n",
      " |      Returns\n",
      " |      -------\n",
      " |      :\n",
      " |          A geom object\n",
      " |\n",
      " |      Raises\n",
      " |      ------\n",
      " |      PlotnineError\n",
      " |          If unable to create a `geom`.\n",
      " |\n",
      " |  legend_key_size(data: 'pd.Series[Any]', min_size: 'tuple[int, int]', lyr: 'layer') -> 'tuple[int, int]'\n",
      " |      Calculate the size of key that would fit the layer contents\n",
      " |\n",
      " |      Parameters\n",
      " |      ----------\n",
      " |      data :\n",
      " |          A row of the data plotted to this layer\n",
      " |      min_size :\n",
      " |          Initial size which should be expanded to fit the contents.\n",
      " |      lyr :\n",
      " |          Layer\n",
      " |\n",
      " |  ----------------------------------------------------------------------\n",
      " |  Data descriptors inherited from plotnine.geoms.geom.geom:\n",
      " |\n",
      " |  __dict__\n",
      " |      dictionary for instance variables\n",
      " |\n",
      " |  __weakref__\n",
      " |      list of weak references to the object\n",
      " |\n",
      " |  ----------------------------------------------------------------------\n",
      " |  Data and other attributes inherited from plotnine.geoms.geom.geom:\n",
      " |\n",
      " |  aes_params = {}\n",
      " |\n",
      " |  legend_geom = 'point'\n",
      "\n"
     ]
    }
   ],
   "source": [
    "help(geom_histogram)"
   ]
  },
  {
   "cell_type": "code",
   "execution_count": 11,
   "metadata": {},
   "outputs": [
    {
     "data": {
      "image/png": "[encoded data removed]"
     },
     "metadata": {
      "image/png": {
       "height": 480,
       "width": 640
      }
     },
     "output_type": "display_data"
    }
   ],
   "source": [
    "p = ggplot(mpg) + aes(x = \"cty\",\n",
    "                      y = after_stat(\"density\")) + geom_histogram(bins = 40)\n",
    "p"
   ]
  },
  {
   "cell_type": "code",
   "execution_count": 29,
   "metadata": {},
   "outputs": [
    {
     "name": "stdout",
     "output_type": "stream",
     "text": [
      "<class 'pandas.core.frame.DataFrame'>\n",
      "(272, 2)\n"
     ]
    }
   ],
   "source": [
    "import pandas as pd\n",
    "from rpy2 import robjects\n",
    "from rpy2.robjects import pandas2ri\n",
    "from rpy2.robjects.conversion import localconverter\n",
    "pandas2ri.activate()\n",
    "# Retrieve the R data frame\n",
    "faithful = robjects.r['faithful']\n",
    "\n",
    "# Use localconverter to handle the conversion\n",
    "with localconverter(robjects.default_converter + pandas2ri.converter):\n",
    "    faithful_df = robjects.conversion.rpy2py(faithful)\n",
    "\n",
    "# Check the type and shape\n",
    "print(type(faithful_df))\n",
    "print(faithful_df.shape)"
   ]
  },
  {
   "cell_type": "code",
   "execution_count": 41,
   "metadata": {},
   "outputs": [
    {
     "data": {
      "text/plain": [
       "(272,)"
      ]
     },
     "execution_count": 41,
     "metadata": {},
     "output_type": "execute_result"
    }
   ],
   "source": [
    "faithful[0].shape"
   ]
  },
  {
   "cell_type": "code",
   "execution_count": 39,
   "metadata": {},
   "outputs": [
    {
     "data": {
      "text/plain": [
       "array([3.6  , 1.8  , 3.333, 2.283, 4.533, 2.883, 4.7  , 3.6  , 1.95 ,\n",
       "       4.35 , 1.833, 3.917, 4.2  , 1.75 , 4.7  , 2.167, 1.75 , 4.8  ,\n",
       "       1.6  , 4.25 , 1.8  , 1.75 , 3.45 , 3.067, 4.533, 3.6  , 1.967,\n",
       "       4.083, 3.85 , 4.433, 4.3  , 4.467, 3.367, 4.033, 3.833, 2.017,\n",
       "       1.867, 4.833, 1.833, 4.783, 4.35 , 1.883, 4.567, 1.75 , 4.533,\n",
       "       3.317, 3.833, 2.1  , 4.633, 2.   , 4.8  , 4.716, 1.833, 4.833,\n",
       "       1.733, 4.883, 3.717, 1.667, 4.567, 4.317, 2.233, 4.5  , 1.75 ,\n",
       "       4.8  , 1.817, 4.4  , 4.167, 4.7  , 2.067, 4.7  , 4.033, 1.967,\n",
       "       4.5  , 4.   , 1.983, 5.067, 2.017, 4.567, 3.883, 3.6  , 4.133,\n",
       "       4.333, 4.1  , 2.633, 4.067, 4.933, 3.95 , 4.517, 2.167, 4.   ,\n",
       "       2.2  , 4.333, 1.867, 4.817, 1.833, 4.3  , 4.667, 3.75 , 1.867,\n",
       "       4.9  , 2.483, 4.367, 2.1  , 4.5  , 4.05 , 1.867, 4.7  , 1.783,\n",
       "       4.85 , 3.683, 4.733, 2.3  , 4.9  , 4.417, 1.7  , 4.633, 2.317,\n",
       "       4.6  , 1.817, 4.417, 2.617, 4.067, 4.25 , 1.967, 4.6  , 3.767,\n",
       "       1.917, 4.5  , 2.267, 4.65 , 1.867, 4.167, 2.8  , 4.333, 1.833,\n",
       "       4.383, 1.883, 4.933, 2.033, 3.733, 4.233, 2.233, 4.533, 4.817,\n",
       "       4.333, 1.983, 4.633, 2.017, 5.1  , 1.8  , 5.033, 4.   , 2.4  ,\n",
       "       4.6  , 3.567, 4.   , 4.5  , 4.083, 1.8  , 3.967, 2.2  , 4.15 ,\n",
       "       2.   , 3.833, 3.5  , 4.583, 2.367, 5.   , 1.933, 4.617, 1.917,\n",
       "       2.083, 4.583, 3.333, 4.167, 4.333, 4.5  , 2.417, 4.   , 4.167,\n",
       "       1.883, 4.583, 4.25 , 3.767, 2.033, 4.433, 4.083, 1.833, 4.417,\n",
       "       2.183, 4.8  , 1.833, 4.8  , 4.1  , 3.966, 4.233, 3.5  , 4.366,\n",
       "       2.25 , 4.667, 2.1  , 4.35 , 4.133, 1.867, 4.6  , 1.783, 4.367,\n",
       "       3.85 , 1.933, 4.5  , 2.383, 4.7  , 1.867, 3.833, 3.417, 4.233,\n",
       "       2.4  , 4.8  , 2.   , 4.15 , 1.867, 4.267, 1.75 , 4.483, 4.   ,\n",
       "       4.117, 4.083, 4.267, 3.917, 4.55 , 4.083, 2.417, 4.183, 2.217,\n",
       "       4.45 , 1.883, 1.85 , 4.283, 3.95 , 2.333, 4.15 , 2.35 , 4.933,\n",
       "       2.9  , 4.583, 3.833, 2.083, 4.367, 2.133, 4.35 , 2.2  , 4.45 ,\n",
       "       3.567, 4.5  , 4.15 , 3.817, 3.917, 4.45 , 2.   , 4.283, 4.767,\n",
       "       4.533, 1.85 , 4.25 , 1.983, 2.25 , 4.75 , 4.117, 2.15 , 4.417,\n",
       "       1.817, 4.467])"
      ]
     },
     "execution_count": 39,
     "metadata": {},
     "output_type": "execute_result"
    }
   ],
   "source": [
    "faithful_df.iloc[:,0].to_numpy()"
   ]
  },
  {
   "cell_type": "code",
   "execution_count": 27,
   "metadata": {},
   "outputs": [
    {
     "name": "stdout",
     "output_type": "stream",
     "text": [
      "A    1\n",
      "B    4\n",
      "C    7\n",
      "Name: 0, dtype: int64\n"
     ]
    },
    {
     "data": {
      "text/plain": [
       "pandas.core.frame.DataFrame"
      ]
     },
     "execution_count": 27,
     "metadata": {},
     "output_type": "execute_result"
    }
   ],
   "source": [
    "import pandas as pd\n",
    "\n",
    "# Sample DataFrame\n",
    "data = {'A': [1, 2, 3], 'B': [4, 5, 6], 'C': [7, 8, 9]}\n",
    "df = pd.DataFrame(data)\n",
    "\n",
    "# Extract the first row\n",
    "first_row = df.iloc[0]\n",
    "print(first_row)\n",
    "type(df)"
   ]
  }
 ],
 "metadata": {
  "kernelspec": {
   "display_name": "base",
   "language": "python",
   "name": "python3"
  },
  "language_info": {
   "codemirror_mode": {
    "name": "ipython",
    "version": 3
   },
   "file_extension": ".py",
   "mimetype": "text/x-python",
   "name": "python",
   "nbconvert_exporter": "python",
   "pygments_lexer": "ipython3",
   "version": "3.12.4"
  }
 },
 "nbformat": 4,
 "nbformat_minor": 2
}
